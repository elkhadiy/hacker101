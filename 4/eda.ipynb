{
 "cells": [
  {
   "cell_type": "code",
   "execution_count": 1,
   "metadata": {},
   "outputs": [],
   "source": [
    "from decrypt import *"
   ]
  },
  {
   "cell_type": "code",
   "execution_count": 2,
   "metadata": {},
   "outputs": [],
   "source": [
    "b64d = lambda x: base64.b64decode(x.replace(b'~', b'=').replace(b'!', b'/').replace(b'-', b'+'))"
   ]
  },
  {
   "cell_type": "code",
   "execution_count": 3,
   "metadata": {},
   "outputs": [],
   "source": [
    "def encryption_oracle(title, body):\n",
    "    url = 'https://11ffc860e7d402e1dc8038ae0d2f0302.ctf.hacker101.com/'\n",
    "    response = rq.post(url, data={'title': title, 'body': body}, allow_redirects=False)\n",
    "    if response.status_code != 302:\n",
    "        return -1\n",
    "    return b64d(response.headers['Location'].split('?post=')[1])"
   ]
  },
  {
   "cell_type": "code",
   "execution_count": 4,
   "metadata": {},
   "outputs": [],
   "source": [
    "plaintxt = \"\"\"{\"flag\": \n",
    "\"^FLAG^1ae92a6b3e835ce26f85ee0931b00fbc61e8716c1980423374192bced9296524$FLAG$\n",
    "\", \"id\": \"3\", \"key\": \"3f6OqjSoJRjK1UGdkinR!w~~\"}\"\"\""
   ]
  },
  {
   "cell_type": "code",
   "execution_count": 5,
   "metadata": {},
   "outputs": [],
   "source": [
    "from adecrypt import Decryptor"
   ]
  },
  {
   "cell_type": "code",
   "execution_count": 6,
   "metadata": {},
   "outputs": [
    {
     "data": {
      "text/plain": [
       "['{\"flag\": \\n\"^FLAG',\n",
       " '^1ae92a6b3e835ce',\n",
       " '26f85ee0931b00fb',\n",
       " 'c61e8716c1980423',\n",
       " '374192bced929652',\n",
       " '4$FLAG$\\n\", \"id\":',\n",
       " ' \"3\", \"key\": \"3f',\n",
       " '6OqjSoJRjK1UGdki',\n",
       " 'nR!w~~\"}']"
      ]
     },
     "execution_count": 6,
     "metadata": {},
     "output_type": "execute_result"
    }
   ],
   "source": [
    "Decryptor.B(plaintxt)"
   ]
  },
  {
   "cell_type": "code",
   "execution_count": 7,
   "metadata": {},
   "outputs": [
    {
     "data": {
      "text/plain": [
       "'{\"flag\": \\n\"^FLAG^1ae92a6b3e835ce26f85ee0931b00fbc61e8716c1980423374192bced9296524$FLAG$\\n\", \"id\": \"3\", \"key\": \"3f6OqjSoJRjK1UGdkinR!w~~\"}'"
      ]
     },
     "execution_count": 7,
     "metadata": {},
     "output_type": "execute_result"
    }
   ],
   "source": [
    "plaintxt"
   ]
  },
  {
   "cell_type": "code",
   "execution_count": 11,
   "metadata": {},
   "outputs": [
    {
     "data": {
      "text/plain": [
       "{'id': 2}"
      ]
     },
     "execution_count": 11,
     "metadata": {},
     "output_type": "execute_result"
    }
   ],
   "source": [
    "import json\n",
    "json.loads('{\"id\": 1, \"id\": 2}')"
   ]
  },
  {
   "cell_type": "code",
   "execution_count": 12,
   "metadata": {},
   "outputs": [
    {
     "ename": "ModuleNotFoundError",
     "evalue": "No module named 'Crypto'",
     "output_type": "error",
     "traceback": [
      "\u001b[0;31m---------------------------------------------------------------------------\u001b[0m",
      "\u001b[0;31mModuleNotFoundError\u001b[0m                       Traceback (most recent call last)",
      "Cell \u001b[0;32mIn[12], line 7\u001b[0m\n\u001b[1;32m      4\u001b[0m \u001b[38;5;28;01mfrom\u001b[39;00m \u001b[38;5;21;01mbase64\u001b[39;00m \u001b[38;5;28;01mimport\u001b[39;00m b64decode\n\u001b[1;32m      5\u001b[0m \u001b[38;5;28;01mfrom\u001b[39;00m \u001b[38;5;21;01mbase64\u001b[39;00m \u001b[38;5;28;01mimport\u001b[39;00m b64encode\n\u001b[0;32m----> 7\u001b[0m \u001b[38;5;28;01mfrom\u001b[39;00m \u001b[38;5;21;01mCrypto\u001b[39;00m\u001b[38;5;21;01m.\u001b[39;00m\u001b[38;5;21;01mCipher\u001b[39;00m \u001b[38;5;28;01mimport\u001b[39;00m AES\n\u001b[1;32m      8\u001b[0m \u001b[38;5;28;01mfrom\u001b[39;00m \u001b[38;5;21;01mCrypto\u001b[39;00m\u001b[38;5;21;01m.\u001b[39;00m\u001b[38;5;21;01mRandom\u001b[39;00m \u001b[38;5;28;01mimport\u001b[39;00m get_random_bytes\n\u001b[1;32m      9\u001b[0m \u001b[38;5;28;01mfrom\u001b[39;00m \u001b[38;5;21;01mCrypto\u001b[39;00m\u001b[38;5;21;01m.\u001b[39;00m\u001b[38;5;21;01mUtil\u001b[39;00m\u001b[38;5;21;01m.\u001b[39;00m\u001b[38;5;21;01mPadding\u001b[39;00m \u001b[38;5;28;01mimport\u001b[39;00m pad, unpad\n",
      "\u001b[0;31mModuleNotFoundError\u001b[0m: No module named 'Crypto'"
     ]
    }
   ],
   "source": [
    "# The code is modified from\n",
    "# https://gist.github.com/lopes/168c9d74b988391e702aac5f4aa69e41\n",
    "#\n",
    "from base64 import b64decode\n",
    "from base64 import b64encode\n",
    "\n",
    "from Crypto.Cipher import AES\n",
    "from Crypto.Random import get_random_bytes\n",
    "from Crypto.Util.Padding import pad, unpad\n",
    "\n",
    "\n",
    "class AESCipher:\n",
    "    def __init__(self, key):\n",
    "        self.key = key\n",
    "\n",
    "    def encrypt(self, data):\n",
    "        iv = get_random_bytes(AES.block_size)\n",
    "        self.cipher = AES.new(self.key, AES.MODE_CBC, iv)\n",
    "        return b64encode(iv + self.cipher.encrypt(pad(data.encode('utf-8'), \n",
    "            AES.block_size)))\n",
    "\n",
    "    def decrypt(self, data):\n",
    "        raw = b64decode(data)\n",
    "        self.cipher = AES.new(self.key, AES.MODE_CBC, raw[:AES.block_size])\n",
    "        return unpad(self.cipher.decrypt(raw[AES.block_size:]), AES.block_size)\n",
    "    \n",
    "def bitFlip( pos, bit, data):\n",
    "    raw = b64decode(data)\n",
    "    list1 = list(raw)\n",
    "    list1[pos] = list1[pos] ^ bit\n",
    "    raw = bytes(list1)\n",
    "    return b64encode(bytes(raw))\n",
    "\n",
    "\n",
    "if __name__ == '__main__':\n",
    "\n",
    "    key = b'Sixteen byte key'\n",
    "    msg = \"Buy 1000 lots of waffles\"\n",
    "    \n",
    "    print('Original Message:', msg)\n",
    "\n",
    "    ctx = AESCipher(key).encrypt(msg).decode('utf-8')\n",
    "    print('Ciphertext      :', ctx)\n",
    "\n",
    "    ctx = bitFlip(4,4,ctx)\n",
    "\n",
    "    print('Message...      :', AESCipher(key).decrypt(ctx).decode('utf-8'))"
   ]
  },
  {
   "cell_type": "code",
   "execution_count": null,
   "metadata": {},
   "outputs": [],
   "source": []
  }
 ],
 "metadata": {
  "kernelspec": {
   "display_name": "Infosec-e2vBRVwX",
   "language": "python",
   "name": "python3"
  },
  "language_info": {
   "codemirror_mode": {
    "name": "ipython",
    "version": 3
   },
   "file_extension": ".py",
   "mimetype": "text/x-python",
   "name": "python",
   "nbconvert_exporter": "python",
   "pygments_lexer": "ipython3",
   "version": "3.12.5"
  }
 },
 "nbformat": 4,
 "nbformat_minor": 2
}
